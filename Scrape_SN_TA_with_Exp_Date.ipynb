{
 "cells": [
  {
   "cell_type": "markdown",
   "metadata": {},
   "source": [
    "# Space Needle Trip Advisor Scraper"
   ]
  },
  {
   "cell_type": "markdown",
   "metadata": {},
   "source": [
    "## Import Libraries"
   ]
  },
  {
   "cell_type": "code",
   "execution_count": 1,
   "metadata": {},
   "outputs": [],
   "source": [
    "import pandas as pd\n",
    "from datetime import datetime\n",
    "import time\n",
    "import json"
   ]
  },
  {
   "cell_type": "markdown",
   "metadata": {},
   "source": [
    "## Import Libraries and Install if necessary"
   ]
  },
  {
   "cell_type": "code",
   "execution_count": 2,
   "metadata": {},
   "outputs": [
    {
     "name": "stdout",
     "output_type": "stream",
     "text": [
      "Requirement already satisfied: requests in c:\\programdata\\anaconda3\\lib\\site-packages (2.22.0)\n",
      "Requirement already satisfied: certifi>=2017.4.17 in c:\\programdata\\anaconda3\\lib\\site-packages (from requests) (2019.9.11)\n",
      "Requirement already satisfied: idna<2.9,>=2.5 in c:\\programdata\\anaconda3\\lib\\site-packages (from requests) (2.8)\n",
      "Requirement already satisfied: chardet<3.1.0,>=3.0.2 in c:\\programdata\\anaconda3\\lib\\site-packages (from requests) (3.0.4)\n",
      "Requirement already satisfied: urllib3!=1.25.0,!=1.25.1,<1.26,>=1.21.1 in c:\\programdata\\anaconda3\\lib\\site-packages (from requests) (1.24.2)\n"
     ]
    }
   ],
   "source": [
    "!pip install requests\n",
    "import requests"
   ]
  },
  {
   "cell_type": "code",
   "execution_count": 3,
   "metadata": {},
   "outputs": [
    {
     "name": "stdout",
     "output_type": "stream",
     "text": [
      "Requirement already satisfied: beautifulsoup4 in c:\\programdata\\anaconda3\\lib\\site-packages (4.8.1)\n",
      "Requirement already satisfied: soupsieve>=1.2 in c:\\programdata\\anaconda3\\lib\\site-packages (from beautifulsoup4) (1.9.3)\n"
     ]
    }
   ],
   "source": [
    "!pip install beautifulsoup4\n",
    "from bs4 import BeautifulSoup"
   ]
  },
  {
   "cell_type": "code",
   "execution_count": 4,
   "metadata": {},
   "outputs": [
    {
     "name": "stdout",
     "output_type": "stream",
     "text": [
      "Requirement already satisfied: tqdm in c:\\programdata\\anaconda3\\lib\\site-packages (4.36.1)\n"
     ]
    }
   ],
   "source": [
    "!pip install tqdm\n",
    "from copy import deepcopy\n",
    "from tqdm import tqdm_notebook"
   ]
  },
  {
   "cell_type": "code",
   "execution_count": 5,
   "metadata": {},
   "outputs": [
    {
     "name": "stdout",
     "output_type": "stream",
     "text": [
      "Requirement already satisfied: python-dateutil in c:\\programdata\\anaconda3\\lib\\site-packages (2.8.0)\n",
      "Requirement already satisfied: six>=1.5 in c:\\programdata\\anaconda3\\lib\\site-packages (from python-dateutil) (1.12.0)\n"
     ]
    }
   ],
   "source": [
    "!pip install python-dateutil\n",
    "from dateutil import parser"
   ]
  },
  {
   "cell_type": "markdown",
   "metadata": {},
   "source": [
    "## Functions"
   ]
  },
  {
   "cell_type": "code",
   "execution_count": 6,
   "metadata": {
    "scrolled": true
   },
   "outputs": [],
   "source": [
    "def Process_Reviews(reviews):\n",
    "    \n",
    "    data = []\n",
    "    \n",
    "    for review in reviews:\n",
    "        \n",
    "        info = dict()\n",
    "\n",
    "        reviewer = review.select_one('.pointer_cursor div').text\n",
    "        try:\n",
    "            location = review.select_one('.pointer_cursor strong').text\n",
    "        except:\n",
    "            location = None\n",
    "        rating_date = review.select_one('.ratingDate')['title']\n",
    "        rating = str(review.select_one('.ui_bubble_rating'))[-11]\n",
    "        quote = review.select_one('.noQuotes').text.strip()\n",
    "        review_text = review.select_one('.partial_entry').text\n",
    "        try:\n",
    "            exp_date = review.select_one('.prw_reviews_stay_date_hsx').text[20:]\n",
    "        except:\n",
    "            exp_date = None\n",
    "    \n",
    "        info['Reviewer'] = reviewer\n",
    "        \"\"\"\n",
    "        if location:\n",
    "            info['Location'] = location\n",
    "        else:\n",
    "            info['Location'] = None\n",
    "        \"\"\"\n",
    "        info['Rating'] = rating\n",
    "        \"\"\"\n",
    "        info['Quote'] = quote\n",
    "        info['Review'] = review_text\n",
    "        \"\"\"\n",
    "        info['Rating Date'] = datetime.strftime(datetime.strptime(rating_date, '%B %d, %Y'), '%Y-%m-%d')\n",
    "        if exp_date:\n",
    "            info['Experience Date'] = datetime.strftime(datetime.strptime(exp_date, '%B %Y'), '%Y-%m')\n",
    "        else:\n",
    "            info['Experience Date'] = None\n",
    "        \n",
    "        data.append(info)\n",
    "        \n",
    "    return data"
   ]
  },
  {
   "cell_type": "code",
   "execution_count": 7,
   "metadata": {},
   "outputs": [],
   "source": [
    "def Get_Reviews(url):\n",
    "    \n",
    "    r = requests.get(url)\n",
    "    soup = BeautifulSoup(r.content, 'html.parser')\n",
    "    reviews = soup.select('.review-container')\n",
    "    \n",
    "    return reviews"
   ]
  },
  {
   "cell_type": "markdown",
   "metadata": {},
   "source": [
    "## Defaults"
   ]
  },
  {
   "cell_type": "code",
   "execution_count": 8,
   "metadata": {},
   "outputs": [],
   "source": [
    "url_pre = 'https://www.tripadvisor.com/Attraction_Review-g60878-d123109-Reviews-or'\n",
    "url_post = '0-Space_Needle-Seattle_Washington.html'"
   ]
  },
  {
   "cell_type": "code",
   "execution_count": 9,
   "metadata": {},
   "outputs": [],
   "source": [
    "num_pages = 1675\n",
    "#num_pages = 3"
   ]
  },
  {
   "cell_type": "code",
   "execution_count": 10,
   "metadata": {},
   "outputs": [],
   "source": [
    "wait_time = 1 #in seconds"
   ]
  },
  {
   "cell_type": "markdown",
   "metadata": {},
   "source": [
    "## Main Program"
   ]
  },
  {
   "cell_type": "code",
   "execution_count": 11,
   "metadata": {},
   "outputs": [
    {
     "name": "stdout",
     "output_type": "stream",
     "text": [
      "Now processing page 1,674 of 1,675 (99.9% done)Done.\n",
      "Wall time: 1h 11min 29s\n"
     ]
    }
   ],
   "source": [
    "%%time\n",
    "\n",
    "all_reviews = []\n",
    "\n",
    "for page in range(0, num_pages):\n",
    "\n",
    "    complete = round(page / num_pages, 2) * 100\n",
    "    print (f'\\rNow processing page {page:,} of {num_pages:,} ({complete:.1f}% done)', end='')\n",
    "    url =  url_pre + str(page) + url_post\n",
    "    reviews = Get_Reviews(url)\n",
    "    page_data = Process_Reviews(reviews)\n",
    "    all_reviews.extend(page_data)\n",
    "    time.sleep(wait_time)\n",
    "\n",
    "print ('\\nDone.')"
   ]
  },
  {
   "cell_type": "markdown",
   "metadata": {},
   "source": [
    "## Convert to Pandas DataFrame and eliminate duplicates"
   ]
  },
  {
   "cell_type": "code",
   "execution_count": 12,
   "metadata": {},
   "outputs": [],
   "source": [
    "df = pd.DataFrame(all_reviews)\n",
    "df.drop_duplicates(subset=None, keep='first', inplace=True)"
   ]
  },
  {
   "cell_type": "markdown",
   "metadata": {},
   "source": [
    "## Output to JSON"
   ]
  },
  {
   "cell_type": "code",
   "execution_count": 13,
   "metadata": {},
   "outputs": [],
   "source": [
    "j = df.to_dict()"
   ]
  },
  {
   "cell_type": "code",
   "execution_count": 14,
   "metadata": {},
   "outputs": [],
   "source": [
    "with open('SN_Reviews_with_Exp_Date.json', 'w') as f:\n",
    "    \n",
    "    json.dump(j, f)"
   ]
  },
  {
   "cell_type": "code",
   "execution_count": null,
   "metadata": {},
   "outputs": [],
   "source": []
  }
 ],
 "metadata": {
  "kernelspec": {
   "display_name": "Python 3",
   "language": "python",
   "name": "python3"
  },
  "language_info": {
   "codemirror_mode": {
    "name": "ipython",
    "version": 3
   },
   "file_extension": ".py",
   "mimetype": "text/x-python",
   "name": "python",
   "nbconvert_exporter": "python",
   "pygments_lexer": "ipython3",
   "version": "3.6.9"
  }
 },
 "nbformat": 4,
 "nbformat_minor": 2
}
